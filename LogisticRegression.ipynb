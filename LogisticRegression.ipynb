{
 "cells": [
  {
   "cell_type": "code",
   "execution_count": null,
   "id": "4eb7a975-cd8d-4b4d-bf30-5e052fc700ad",
   "metadata": {},
   "outputs": [],
   "source": [
    "# 导入所需的包\n",
    "import pandas as pd\n",
    "import numpy as np\n",
    "import matplotlib.pyplot as plt\n",
    "\n",
    "from sklearn.linear_model import LogisticRegression as LR\n",
    "from sklearn.model_selection import train_test_split\n",
    "from sklearn.metrics import confusion_matrix, classification_report\n",
    "from sklearn.metrics import roc_auc_score, roc_curve, auc\n",
    "from sklearn.preprocessing import MinMaxScaler\n",
    "from imblearn.over_sampling import SMOTE\n"
   ]
  },
  {
   "cell_type": "code",
   "execution_count": 5,
   "id": "9dbef494-63fd-49c5-8c6c-63fff1f3f537",
   "metadata": {
    "scrolled": true
   },
   "outputs": [
    {
     "name": "stdout",
     "output_type": "stream",
     "text": [
      "训练集上的预测准确率为： 0.7984550904922103\n",
      "测试集上的预测准确率为： 0.7963708333333334\n"
     ]
    }
   ],
   "source": [
    "# 导入原始数据集\n",
    "df = pd.read_csv(r'D:\\develop\\train.csv')"
   ]
  },
  {
   "cell_type": "code",
   "execution_count": 9,
   "id": "8763ab07-e43e-4dae-bcc3-1d0c705b0773",
   "metadata": {
    "scrolled": true
   },
   "outputs": [
    {
     "data": {
      "text/html": [
       "<div>\n",
       "<style scoped>\n",
       "    .dataframe tbody tr th:only-of-type {\n",
       "        vertical-align: middle;\n",
       "    }\n",
       "\n",
       "    .dataframe tbody tr th {\n",
       "        vertical-align: top;\n",
       "    }\n",
       "\n",
       "    .dataframe thead th {\n",
       "        text-align: right;\n",
       "    }\n",
       "</style>\n",
       "<table border=\"1\" class=\"dataframe\">\n",
       "  <thead>\n",
       "    <tr style=\"text-align: right;\">\n",
       "      <th></th>\n",
       "      <th>id</th>\n",
       "      <th>cat_0</th>\n",
       "      <th>cat_1</th>\n",
       "      <th>cat_2</th>\n",
       "      <th>cat_3</th>\n",
       "      <th>cat_4</th>\n",
       "      <th>cat_5</th>\n",
       "      <th>cat_6</th>\n",
       "      <th>cat_7</th>\n",
       "      <th>cat_8</th>\n",
       "      <th>...</th>\n",
       "      <th>num_29</th>\n",
       "      <th>num_30</th>\n",
       "      <th>num_31</th>\n",
       "      <th>num_32</th>\n",
       "      <th>num_33</th>\n",
       "      <th>num_34</th>\n",
       "      <th>num_35</th>\n",
       "      <th>num_36</th>\n",
       "      <th>num_37</th>\n",
       "      <th>target</th>\n",
       "    </tr>\n",
       "  </thead>\n",
       "  <tbody>\n",
       "    <tr>\n",
       "      <th>count</th>\n",
       "      <td>800000.000000</td>\n",
       "      <td>800000.000000</td>\n",
       "      <td>800000.000000</td>\n",
       "      <td>800000.000000</td>\n",
       "      <td>800000.000000</td>\n",
       "      <td>800000.000000</td>\n",
       "      <td>800000.000000</td>\n",
       "      <td>800000.000000</td>\n",
       "      <td>800000.000000</td>\n",
       "      <td>800000.000000</td>\n",
       "      <td>...</td>\n",
       "      <td>800000.000000</td>\n",
       "      <td>800000.000000</td>\n",
       "      <td>800000.000000</td>\n",
       "      <td>800000.000000</td>\n",
       "      <td>800000.000000</td>\n",
       "      <td>800000.000000</td>\n",
       "      <td>8.000000e+05</td>\n",
       "      <td>800000.000000</td>\n",
       "      <td>800000.000000</td>\n",
       "      <td>800000.000000</td>\n",
       "    </tr>\n",
       "    <tr>\n",
       "      <th>mean</th>\n",
       "      <td>399999.500000</td>\n",
       "      <td>11.326667</td>\n",
       "      <td>93.369439</td>\n",
       "      <td>7.133563</td>\n",
       "      <td>3.910350</td>\n",
       "      <td>3.719691</td>\n",
       "      <td>0.618034</td>\n",
       "      <td>4.059024</td>\n",
       "      <td>3.946736</td>\n",
       "      <td>3.948812</td>\n",
       "      <td>...</td>\n",
       "      <td>17.316756</td>\n",
       "      <td>13.783345</td>\n",
       "      <td>7.036945</td>\n",
       "      <td>4.225609</td>\n",
       "      <td>2.275005</td>\n",
       "      <td>0.151518</td>\n",
       "      <td>3.305656e+03</td>\n",
       "      <td>4451.633843</td>\n",
       "      <td>0.000495</td>\n",
       "      <td>0.013250</td>\n",
       "    </tr>\n",
       "    <tr>\n",
       "      <th>std</th>\n",
       "      <td>230940.252013</td>\n",
       "      <td>7.532890</td>\n",
       "      <td>84.283980</td>\n",
       "      <td>2.485475</td>\n",
       "      <td>0.424801</td>\n",
       "      <td>1.155052</td>\n",
       "      <td>0.485869</td>\n",
       "      <td>2.062829</td>\n",
       "      <td>0.403059</td>\n",
       "      <td>0.300025</td>\n",
       "      <td>...</td>\n",
       "      <td>11.062003</td>\n",
       "      <td>11.067024</td>\n",
       "      <td>8.457270</td>\n",
       "      <td>7.156476</td>\n",
       "      <td>5.156571</td>\n",
       "      <td>15.736397</td>\n",
       "      <td>9.300704e+04</td>\n",
       "      <td>8239.089604</td>\n",
       "      <td>0.000690</td>\n",
       "      <td>0.114344</td>\n",
       "    </tr>\n",
       "    <tr>\n",
       "      <th>min</th>\n",
       "      <td>0.000000</td>\n",
       "      <td>0.000000</td>\n",
       "      <td>0.000000</td>\n",
       "      <td>1.000000</td>\n",
       "      <td>1.000000</td>\n",
       "      <td>2.000000</td>\n",
       "      <td>0.000000</td>\n",
       "      <td>1.000000</td>\n",
       "      <td>0.000000</td>\n",
       "      <td>2.000000</td>\n",
       "      <td>...</td>\n",
       "      <td>0.000000</td>\n",
       "      <td>0.000000</td>\n",
       "      <td>0.000000</td>\n",
       "      <td>0.000000</td>\n",
       "      <td>0.000000</td>\n",
       "      <td>0.000000</td>\n",
       "      <td>0.000000e+00</td>\n",
       "      <td>0.000000</td>\n",
       "      <td>0.000000</td>\n",
       "      <td>0.000000</td>\n",
       "    </tr>\n",
       "    <tr>\n",
       "      <th>25%</th>\n",
       "      <td>199999.750000</td>\n",
       "      <td>5.000000</td>\n",
       "      <td>25.000000</td>\n",
       "      <td>7.000000</td>\n",
       "      <td>4.000000</td>\n",
       "      <td>3.000000</td>\n",
       "      <td>0.000000</td>\n",
       "      <td>3.000000</td>\n",
       "      <td>4.000000</td>\n",
       "      <td>4.000000</td>\n",
       "      <td>...</td>\n",
       "      <td>6.000000</td>\n",
       "      <td>2.504976</td>\n",
       "      <td>0.000000</td>\n",
       "      <td>0.000000</td>\n",
       "      <td>0.000000</td>\n",
       "      <td>0.000000</td>\n",
       "      <td>0.000000e+00</td>\n",
       "      <td>0.127790</td>\n",
       "      <td>0.000113</td>\n",
       "      <td>0.000000</td>\n",
       "    </tr>\n",
       "    <tr>\n",
       "      <th>50%</th>\n",
       "      <td>399999.500000</td>\n",
       "      <td>11.000000</td>\n",
       "      <td>66.000000</td>\n",
       "      <td>7.000000</td>\n",
       "      <td>4.000000</td>\n",
       "      <td>3.000000</td>\n",
       "      <td>1.000000</td>\n",
       "      <td>4.000000</td>\n",
       "      <td>4.000000</td>\n",
       "      <td>4.000000</td>\n",
       "      <td>...</td>\n",
       "      <td>20.000000</td>\n",
       "      <td>12.786394</td>\n",
       "      <td>3.000000</td>\n",
       "      <td>0.703686</td>\n",
       "      <td>0.000000</td>\n",
       "      <td>0.000000</td>\n",
       "      <td>1.144409e-04</td>\n",
       "      <td>698.475656</td>\n",
       "      <td>0.000246</td>\n",
       "      <td>0.000000</td>\n",
       "    </tr>\n",
       "    <tr>\n",
       "      <th>75%</th>\n",
       "      <td>599999.250000</td>\n",
       "      <td>17.000000</td>\n",
       "      <td>141.000000</td>\n",
       "      <td>9.000000</td>\n",
       "      <td>4.000000</td>\n",
       "      <td>5.000000</td>\n",
       "      <td>1.000000</td>\n",
       "      <td>5.000000</td>\n",
       "      <td>4.000000</td>\n",
       "      <td>4.000000</td>\n",
       "      <td>...</td>\n",
       "      <td>28.000000</td>\n",
       "      <td>25.000000</td>\n",
       "      <td>12.000000</td>\n",
       "      <td>5.000000</td>\n",
       "      <td>1.995969</td>\n",
       "      <td>0.000000</td>\n",
       "      <td>6.930312e-02</td>\n",
       "      <td>5456.293736</td>\n",
       "      <td>0.000542</td>\n",
       "      <td>0.000000</td>\n",
       "    </tr>\n",
       "    <tr>\n",
       "      <th>max</th>\n",
       "      <td>799999.000000</td>\n",
       "      <td>30.000000</td>\n",
       "      <td>357.000000</td>\n",
       "      <td>10.000000</td>\n",
       "      <td>5.000000</td>\n",
       "      <td>6.000000</td>\n",
       "      <td>1.000000</td>\n",
       "      <td>12.000000</td>\n",
       "      <td>5.000000</td>\n",
       "      <td>5.000000</td>\n",
       "      <td>...</td>\n",
       "      <td>30.000000</td>\n",
       "      <td>30.000000</td>\n",
       "      <td>30.000000</td>\n",
       "      <td>30.000000</td>\n",
       "      <td>30.000000</td>\n",
       "      <td>5232.081380</td>\n",
       "      <td>4.169229e+07</td>\n",
       "      <td>243447.173298</td>\n",
       "      <td>0.003287</td>\n",
       "      <td>1.000000</td>\n",
       "    </tr>\n",
       "  </tbody>\n",
       "</table>\n",
       "<p>8 rows × 60 columns</p>\n",
       "</div>"
      ],
      "text/plain": [
       "                  id          cat_0          cat_1          cat_2  \\\n",
       "count  800000.000000  800000.000000  800000.000000  800000.000000   \n",
       "mean   399999.500000      11.326667      93.369439       7.133563   \n",
       "std    230940.252013       7.532890      84.283980       2.485475   \n",
       "min         0.000000       0.000000       0.000000       1.000000   \n",
       "25%    199999.750000       5.000000      25.000000       7.000000   \n",
       "50%    399999.500000      11.000000      66.000000       7.000000   \n",
       "75%    599999.250000      17.000000     141.000000       9.000000   \n",
       "max    799999.000000      30.000000     357.000000      10.000000   \n",
       "\n",
       "               cat_3          cat_4          cat_5          cat_6  \\\n",
       "count  800000.000000  800000.000000  800000.000000  800000.000000   \n",
       "mean        3.910350       3.719691       0.618034       4.059024   \n",
       "std         0.424801       1.155052       0.485869       2.062829   \n",
       "min         1.000000       2.000000       0.000000       1.000000   \n",
       "25%         4.000000       3.000000       0.000000       3.000000   \n",
       "50%         4.000000       3.000000       1.000000       4.000000   \n",
       "75%         4.000000       5.000000       1.000000       5.000000   \n",
       "max         5.000000       6.000000       1.000000      12.000000   \n",
       "\n",
       "               cat_7          cat_8  ...         num_29         num_30  \\\n",
       "count  800000.000000  800000.000000  ...  800000.000000  800000.000000   \n",
       "mean        3.946736       3.948812  ...      17.316756      13.783345   \n",
       "std         0.403059       0.300025  ...      11.062003      11.067024   \n",
       "min         0.000000       2.000000  ...       0.000000       0.000000   \n",
       "25%         4.000000       4.000000  ...       6.000000       2.504976   \n",
       "50%         4.000000       4.000000  ...      20.000000      12.786394   \n",
       "75%         4.000000       4.000000  ...      28.000000      25.000000   \n",
       "max         5.000000       5.000000  ...      30.000000      30.000000   \n",
       "\n",
       "              num_31         num_32         num_33         num_34  \\\n",
       "count  800000.000000  800000.000000  800000.000000  800000.000000   \n",
       "mean        7.036945       4.225609       2.275005       0.151518   \n",
       "std         8.457270       7.156476       5.156571      15.736397   \n",
       "min         0.000000       0.000000       0.000000       0.000000   \n",
       "25%         0.000000       0.000000       0.000000       0.000000   \n",
       "50%         3.000000       0.703686       0.000000       0.000000   \n",
       "75%        12.000000       5.000000       1.995969       0.000000   \n",
       "max        30.000000      30.000000      30.000000    5232.081380   \n",
       "\n",
       "             num_35         num_36         num_37         target  \n",
       "count  8.000000e+05  800000.000000  800000.000000  800000.000000  \n",
       "mean   3.305656e+03    4451.633843       0.000495       0.013250  \n",
       "std    9.300704e+04    8239.089604       0.000690       0.114344  \n",
       "min    0.000000e+00       0.000000       0.000000       0.000000  \n",
       "25%    0.000000e+00       0.127790       0.000113       0.000000  \n",
       "50%    1.144409e-04     698.475656       0.000246       0.000000  \n",
       "75%    6.930312e-02    5456.293736       0.000542       0.000000  \n",
       "max    4.169229e+07  243447.173298       0.003287       1.000000  \n",
       "\n",
       "[8 rows x 60 columns]"
      ]
     },
     "execution_count": 9,
     "metadata": {},
     "output_type": "execute_result"
    }
   ],
   "source": [
    "df.describe()"
   ]
  },
  {
   "cell_type": "code",
   "execution_count": 10,
   "id": "b92b45f4-39a3-487b-8f3b-0ed7d856f9b6",
   "metadata": {},
   "outputs": [
    {
     "data": {
      "text/plain": [
       "target\n",
       "0.0    789400\n",
       "1.0     10600\n",
       "Name: count, dtype: int64"
      ]
     },
     "execution_count": 10,
     "metadata": {},
     "output_type": "execute_result"
    }
   ],
   "source": [
    "df['target'].value_counts()"
   ]
  },
  {
   "cell_type": "code",
   "execution_count": 12,
   "id": "b9f113b1-23db-4ef0-ab9e-e95dcdd62c6c",
   "metadata": {},
   "outputs": [
    {
     "data": {
      "text/plain": [
       "<Axes: ylabel='count'>"
      ]
     },
     "execution_count": 12,
     "metadata": {},
     "output_type": "execute_result"
    },
    {
     "data": {
      "image/png": "[encoded data removed]",
      "text/plain": [
       "<Figure size 640x480 with 1 Axes>"
      ]
     },
     "metadata": {},
     "output_type": "display_data"
    }
   ],
   "source": [
    "df['target'].value_counts().plot(kind='pie',autopct='%.3f%%')"
   ]
  },
  {
   "cell_type": "code",
   "execution_count": null,
   "id": "c9cafcad-1715-48e5-9a3f-de209b9fd0f9",
   "metadata": {},
   "outputs": [],
   "source": [
    "# 提取特征矩阵和标签\n",
    "x = df.iloc[:, 1:-1]\n",
    "y = df.iloc[:, -1]\n",
    "# 切分训练集和测试集, 并且进行随机数打乱\n",
    "Xtrain, Xtest, Ytrain, Ytest = train_test_split(x, y, test_size=0.3, random_state=12)\n",
    "# 重置训练集和测试集的索引\n",
    "for i in [Xtrain, Xtest, Ytrain, Ytest]:\n",
    "    i.reset_index(drop=True, inplace=True)\n",
    "# 对所有特征进行归一化处理\n",
    "mms = MinMaxScaler()\n",
    "Xtrain = pd.DataFrame(mms.fit_transform(Xtrain), columns=Xtrain.columns)\n",
    "Xtest = pd.DataFrame(mms.transform(Xtest), columns=Xtest.columns)\n",
    "# 对训练集进行过采样\n",
    "model_smote = SMOTE()\n",
    "Xtrain, Ytrain = model_smote.fit_resample(Xtrain, Ytrain)\n",
    "\n",
    "# 训练逻辑回归模型，尝试使用 'saga' 优化算法并增加迭代次数\n",
    "clf = LR(max_iter=20000, C=9.4, solver='saga')\n",
    "clf = clf.fit(Xtrain, Ytrain)\n",
    "\n",
    "print('训练集上的预测准确率为：', clf.score(Xtrain, Ytrain))\n",
    "print('测试集上的预测准确率为：', clf.score(Xtest, Ytest))"
   ]
  },
  {
   "cell_type": "code",
   "execution_count": 6,
   "id": "4231522e-1dd2-445b-9115-0e1a5baecefc",
   "metadata": {},
   "outputs": [
    {
     "name": "stdout",
     "output_type": "stream",
     "text": [
      "混淆矩阵：\n",
      " [[188690  48121]\n",
      " [   750   2439]]\n"
     ]
    }
   ],
   "source": [
    "# 输出混淆矩阵\n",
    "print('混淆矩阵：\\n', confusion_matrix(Ytest, clf.predict(Xtest)))"
   ]
  },
  {
   "cell_type": "code",
   "execution_count": 7,
   "id": "021b21aa-cc28-4502-9ff0-84d03d5ee6df",
   "metadata": {},
   "outputs": [
    {
     "name": "stdout",
     "output_type": "stream",
     "text": [
      "AUC面积为： 0.8494619777805693\n",
      "              precision    recall  f1-score   support\n",
      "\n",
      "         0.0       1.00      0.80      0.89    236811\n",
      "         1.0       0.05      0.76      0.09      3189\n",
      "\n",
      "    accuracy                           0.80    240000\n",
      "   macro avg       0.52      0.78      0.49    240000\n",
      "weighted avg       0.98      0.80      0.87    240000\n",
      "\n"
     ]
    }
   ],
   "source": [
    "# 查看测试集上AUC面积\n",
    "area = roc_auc_score(Ytest, clf.predict_proba(Xtest)[:, 1])\n",
    "print('AUC面积为：', area)\n",
    "\n",
    "print(classification_report(Ytest, clf.predict(Xtest)))"
   ]
  },
  {
   "cell_type": "code",
   "execution_count": 8,
   "id": "cbc60ab6-8888-4a59-800e-84e5ad65b543",
   "metadata": {},
   "outputs": [
    {
     "data": {
      "image/png": "[encoded data removed]",
      "text/plain": [
       "<Figure size 640x480 with 1 Axes>"
      ]
     },
     "metadata": {},
     "output_type": "display_data"
    }
   ],
   "source": [
    "# 绘制ROC曲线\n",
    "FPR, recall, thresholds = roc_curve(Ytest, clf.predict_proba(Xtest)[:, 1])\n",
    "plt.figure()\n",
    "plt.plot(FPR, recall, color='red', label='ROC curve (area = %0.2f)' % area)\n",
    "plt.plot([0, 1], [0, 1], color='black', linestyle='--')\n",
    "plt.xlim([-0.05, 1.05])\n",
    "plt.ylim([-0.05, 1.05])\n",
    "plt.xlabel('False Positive Rate')\n",
    "plt.ylabel('Recall')\n",
    "plt.title('ROC curve')\n",
    "plt.legend(loc='lower right')\n",
    "plt.show()"
   ]
  }
 ],
 "metadata": {
  "kernelspec": {
   "display_name": "Python 3 (ipykernel)",
   "language": "python",
   "name": "python3"
  },
  "language_info": {
   "codemirror_mode": {
    "name": "ipython",
    "version": 3
   },
   "file_extension": ".py",
   "mimetype": "text/x-python",
   "name": "python",
   "nbconvert_exporter": "python",
   "pygments_lexer": "ipython3",
   "version": "3.12.2"
  }
 },
 "nbformat": 4,
 "nbformat_minor": 5
}
